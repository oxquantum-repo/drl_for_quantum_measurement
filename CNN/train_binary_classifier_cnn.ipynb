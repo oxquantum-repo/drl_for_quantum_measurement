{
 "cells": [
  {
   "cell_type": "code",
   "execution_count": 1,
   "metadata": {},
   "outputs": [
    {
     "data": {
      "text/plain": [
       "ERROR: Failed to launch TensorBoard (exited with 1).\n",
       "Contents of stderr:\n",
       "Traceback (most recent call last):\n",
       "  File \"/home/sebastian/anaconda3/bin/tensorboard\", line 8, in <module>\n",
       "    sys.exit(run_main())\n",
       "  File \"/home/sebastian/anaconda3/lib/python3.7/site-packages/tensorboard/main.py\", line 75, in run_main\n",
       "    app.run(tensorboard.main, flags_parser=tensorboard.configure)\n",
       "  File \"/home/sebastian/anaconda3/lib/python3.7/site-packages/absl/app.py\", line 299, in run\n",
       "    _run_main(main, args)\n",
       "  File \"/home/sebastian/anaconda3/lib/python3.7/site-packages/absl/app.py\", line 250, in _run_main\n",
       "    sys.exit(main(argv))\n",
       "  File \"/home/sebastian/anaconda3/lib/python3.7/site-packages/tensorboard/program.py\", line 289, in main\n",
       "    return runner(self.flags) or 0\n",
       "  File \"/home/sebastian/anaconda3/lib/python3.7/site-packages/tensorboard/program.py\", line 305, in _run_serve_subcommand\n",
       "    server = self._make_server()\n",
       "  File \"/home/sebastian/anaconda3/lib/python3.7/site-packages/tensorboard/program.py\", line 409, in _make_server\n",
       "    self.flags, self.plugin_loaders, self.assets_zip_provider\n",
       "  File \"/home/sebastian/anaconda3/lib/python3.7/site-packages/tensorboard/backend/application.py\", line 183, in standard_tensorboard_wsgi\n",
       "    flags, plugin_loaders, data_provider, assets_zip_provider, multiplexer\n",
       "  File \"/home/sebastian/anaconda3/lib/python3.7/site-packages/tensorboard/backend/application.py\", line 272, in TensorBoardWSGIApp\n",
       "    tbplugins, flags.path_prefix, data_provider, experimental_plugins\n",
       "  File \"/home/sebastian/anaconda3/lib/python3.7/site-packages/tensorboard/backend/application.py\", line 345, in __init__\n",
       "    \"Duplicate plugins for name %s\" % plugin.plugin_name\n",
       "ValueError: Duplicate plugins for name projector"
      ]
     },
     "metadata": {},
     "output_type": "display_data"
    }
   ],
   "source": [
    "import matplotlib.pyplot as plt\n",
    "%matplotlib inline\n",
    "import numpy as np\n",
    "import pickle\n",
    "import tensorflow as tf\n",
    "from tensorflow.keras import datasets, layers, models, regularizers\n",
    "from tensorflow import keras as k\n",
    "import random\n",
    "from tqdm import tqdm\n",
    "import shutil\n",
    "import datetime, os\n",
    "\n",
    "cwd = os.getcwd()\n",
    "primary_dir = os.fsencode(cwd)\n",
    "\n",
    "\n",
    "\n",
    "shutil.rmtree(\"./logs\")\n",
    "logs_base_dir = \"./logs\"\n",
    "os.makedirs(logs_base_dir, exist_ok=True)\n",
    "\n",
    "%reload_ext tensorboard\n",
    "%tensorboard --logdir {logs_base_dir}\n",
    "\n",
    "tensorboard_callback = k.callbacks.TensorBoard(log_dir=logs_base_dir)\n",
    "writer = tf.summary.create_file_writer(\"./logs\")"
   ]
  },
  {
   "cell_type": "code",
   "execution_count": 2,
   "metadata": {},
   "outputs": [],
   "source": [
    "binary_dict = {0: 'No triangle', 1 : 'Bias triangle'}"
   ]
  },
  {
   "cell_type": "code",
   "execution_count": 3,
   "metadata": {},
   "outputs": [],
   "source": [
    "def create_model(pixel_size=32,dense_layers = [32*2,32],drop_out=0.4,l2=0.0001):\n",
    "    model = models.Sequential()\n",
    "    model.add(layers.Conv2D(pixel_size, (3, 3), activation='relu', input_shape=(pixel_size, pixel_size, 1), padding=\"SAME\"))\n",
    "    model.add(layers.MaxPooling2D((2, 2)))\n",
    "    model.add(layers.Conv2D(pixel_size*2, (3, 3), activation='relu', padding=\"SAME\"))\n",
    "    model.add(layers.MaxPooling2D((2, 2)))\n",
    "    model.add(layers.Conv2D(pixel_size*2, (3, 3), activation='relu', padding=\"SAME\"))\n",
    "    model.add(layers.Flatten())\n",
    "    for dense_layer in dense_layers:\n",
    "        model.add(layers.Dense(dense_layer, activation='elu',kernel_regularizer=regularizers.l2(l2)))\n",
    "        model.add(layers.Dropout(drop_out))\n",
    "    \n",
    "    model.add(layers.Dense(1, activation='sigmoid'))\n",
    "    return model\n",
    "\n",
    "def compile_model(model):\n",
    "    model.compile(optimizer='adam',\n",
    "             loss='binary_crossentropy',\n",
    "              metrics=['accuracy'])\n",
    "    return model\n",
    "\n",
    "def train_model(model,train_images,train_labels,test_images,test_labels,epochs,batch_size):\n",
    "    history = model.fit(train_images,train_labels,shuffle=True, epochs=epochs, batch_size=batch_size, \n",
    "                        validation_data=(test_images,test_labels),callbacks=[tensorboard_callback])\n",
    "    return model, history\n",
    "\n",
    "def evaluate_model(model,history, test_images,test_labels):\n",
    "    plt.clf()\n",
    "    plt.plot(history.history['accuracy'], label='accuracy')\n",
    "    plt.plot(history.history['val_accuracy'], label = 'val_accuracy')\n",
    "    plt.xlabel('Epoch')\n",
    "    plt.ylabel('Accuracy')\n",
    "    plt.ylim([0.0, 1.1])\n",
    "    plt.legend(loc='lower right')\n",
    "    plt.show()\n",
    "    \n",
    "    test_loss, test_acc = model.evaluate(test_images,  test_labels, verbose=2)\n",
    "    return test_loss, test_acc\n",
    "\n",
    "def normalise(x):\n",
    "    x_max = np.amax(x)\n",
    "    x_min = np.amin(x)\n",
    "    x = (x - x_min)/(x_max-x_min)\n",
    "    return x"
   ]
  },
  {
   "cell_type": "code",
   "execution_count": 4,
   "metadata": {
    "pycharm": {
     "name": "#%%\n"
    }
   },
   "outputs": [],
   "source": [
    "data_total = np.load('data.npy')\n",
    "labels_total = np.load('labels.npy')\n",
    "\n",
    "\n",
    "data_total = normalise(data_total)\n",
    "\n",
    "val_split = 0.3\n",
    "val_set = np.int(val_split*np.shape(labels_total)[0])\n",
    "\n",
    "\n",
    "train_images= np.array(data_total[val_set:]).reshape(-1, 32, 32, 1)\n",
    "train_labels = np.array(labels_total[val_set:]).reshape(-1, 1)\n",
    "validate_images = np.array(data_total[:val_set]).reshape(-1, 32, 32, 1)\n",
    "validate_labels = np.array(labels_total[:val_set]).reshape(-1, 1)\n",
    "\n",
    "\n",
    "def model_main(pixel_size=32,drop_out=0.0,l2=0.0001,epochs = 10,batch_size = 100):\n",
    "\n",
    "    model_binary_classifier = create_model(pixel_size=pixel_size,drop_out=drop_out,l2=l2)\n",
    "    model_binary_classifier.summary()\n",
    "    model_binary_classifier = compile_model(model_binary_classifier)\n",
    "    val_loss, val_acc = train_model(model_binary_classifier,train_images,train_labels,validate_images,validate_labels,epochs,batch_size)\n",
    "    return model_binary_classifier\n",
    "\n",
    "model_binary_classifier = model_main()\n",
    "\n",
    "model_binary_classifier.save('bias_triangle_binary_classifier.h5') "
   ]
  }
 ],
 "metadata": {
  "kernelspec": {
   "display_name": "Python 3",
   "language": "python",
   "name": "python3"
  },
  "language_info": {
   "codemirror_mode": {
    "name": "ipython",
    "version": 3
   },
   "file_extension": ".py",
   "mimetype": "text/x-python",
   "name": "python",
   "nbconvert_exporter": "python",
   "pygments_lexer": "ipython3",
   "version": "3.7.4"
  }
 },
 "nbformat": 4,
 "nbformat_minor": 2
}